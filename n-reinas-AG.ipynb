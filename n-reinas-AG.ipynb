{
 "cells": [
  {
   "cell_type": "code",
   "execution_count": 1,
   "id": "7094fd08-c1fa-4c38-9367-7a653fdaab51",
   "metadata": {},
   "outputs": [
    {
     "name": "stdout",
     "output_type": "stream",
     "text": [
      "Solución encontrada en la generación 4\n",
      "Solución: [2, 5, 7, 0, 4, 6, 1, 3]\n",
      "Conflictos: 0\n"
     ]
    },
    {
     "data": {
      "image/png": "[encoded data removed]",
      "text/plain": [
       "<Figure size 600x600 with 1 Axes>"
      ]
     },
     "metadata": {},
     "output_type": "display_data"
    }
   ],
   "source": [
    "import matplotlib.pyplot as plt\n",
    "import random\n",
    "\n",
    "# Número de reinas\n",
    "N = 8\n",
    "\n",
    "# Crear un cromosoma (aleatoria)\n",
    "def crear_individuo():\n",
    "    individuo = list(range(N))\n",
    "    random.shuffle(individuo)\n",
    "    return individuo\n",
    "\n",
    "# Evaluar número de conflictos en diagonales\n",
    "def evaluar(individuo):\n",
    "    conflictos = 0\n",
    "    for i in range(N):\n",
    "        for j in range(i + 1, N):\n",
    "            if abs(individuo[i] - individuo[j]) == abs(i - j):\n",
    "                conflictos += 1\n",
    "    return conflictos\n",
    "\n",
    "# Cruzar dos padres (cruce de orden)\n",
    "def cruzar(p1, p2):\n",
    "    a, b = sorted(random.sample(range(N), 2))\n",
    "    hijo = [None] * N\n",
    "    hijo[a:b] = p1[a:b]\n",
    "    relleno = [gene for gene in p2 if gene not in hijo]\n",
    "    pos = 0\n",
    "    for i in range(N):\n",
    "        if hijo[i] is None:\n",
    "            hijo[i] = relleno[pos]\n",
    "            pos += 1\n",
    "    return hijo\n",
    "\n",
    "# Mutación por intercambio\n",
    "def mutar(individuo, prob=0.2):\n",
    "    if random.random() < prob:\n",
    "        a, b = random.sample(range(N), 2)\n",
    "        individuo[a], individuo[b] = individuo[b], individuo[a]\n",
    "    return individuo\n",
    "\n",
    "# Algoritmo genético principal\n",
    "def algoritmo_genetico(poblacion_size=100, generaciones=1000):\n",
    "    poblacion = [crear_individuo() for _ in range(poblacion_size)]\n",
    "    for gen in range(generaciones):\n",
    "        poblacion.sort(key=evaluar)\n",
    "        if evaluar(poblacion[0]) == 0:\n",
    "            print(f\"Solución encontrada en la generación {gen}\")\n",
    "            return poblacion[0]\n",
    "        nueva_poblacion = poblacion[:10]  # elitismo\n",
    "        while len(nueva_poblacion) < poblacion_size:\n",
    "            padres = random.sample(poblacion[:50], 2)\n",
    "            hijo = cruzar(padres[0], padres[1])\n",
    "            hijo = mutar(hijo)\n",
    "            nueva_poblacion.append(hijo)\n",
    "        poblacion = nueva_poblacion\n",
    "    return min(poblacion, key=evaluar)\n",
    "\n",
    "# Visualización del tablero\n",
    "def graficar_tablero(solucion):\n",
    "    fig, ax = plt.subplots(figsize=(6, 6))\n",
    "    for i in range(N):\n",
    "        for j in range(N):\n",
    "            color = 'white' if (i + j) % 2 == 0 else 'gray'\n",
    "            ax.add_patch(plt.Rectangle((j, N - 1 - i), 1, 1, facecolor=color))\n",
    "    for col, row in enumerate(solucion):\n",
    "        ax.text(col + 0.5, N - 1 - row + 0.5, '♛', ha='center', va='center', fontsize=24, color='red')\n",
    "    ax.set_xlim(0, N)\n",
    "    ax.set_ylim(0, N)\n",
    "    ax.set_xticks([])\n",
    "    ax.set_yticks([])\n",
    "    ax.set_title(f\"Solución al problema de {N} reinas\")\n",
    "    plt.grid(False)\n",
    "    plt.show()\n",
    "\n",
    "# Ejecutar el algoritmo y mostrar la solución\n",
    "solucion = algoritmo_genetico()\n",
    "print(\"Solución:\", solucion)\n",
    "print(\"Conflictos:\", evaluar(solucion))\n",
    "graficar_tablero(solucion)"
   ]
  },
  {
   "cell_type": "code",
   "execution_count": null,
   "id": "f9717c30-cc4f-4f02-aa35-941f74e17c09",
   "metadata": {},
   "outputs": [],
   "source": []
  }
 ],
 "metadata": {
  "kernelspec": {
   "display_name": "Python 3",
   "language": "python",
   "name": "python3"
  },
  "language_info": {
   "codemirror_mode": {
    "name": "ipython",
    "version": 3
   },
   "file_extension": ".py",
   "mimetype": "text/x-python",
   "name": "python",
   "nbconvert_exporter": "python",
   "pygments_lexer": "ipython3",
   "version": "3.9.13"
  }
 },
 "nbformat": 4,
 "nbformat_minor": 5
}
